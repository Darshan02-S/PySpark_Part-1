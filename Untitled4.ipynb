{
 "cells": [
  {
   "cell_type": "code",
   "execution_count": 42,
   "id": "86ad1386",
   "metadata": {},
   "outputs": [],
   "source": [
    "import findspark"
   ]
  },
  {
   "cell_type": "code",
   "execution_count": 43,
   "id": "916ff7f6",
   "metadata": {},
   "outputs": [],
   "source": [
    "findspark.init()"
   ]
  },
  {
   "cell_type": "code",
   "execution_count": 44,
   "id": "135fdc88",
   "metadata": {},
   "outputs": [
    {
     "data": {
      "text/plain": [
       "'C:\\\\spark-3.1.3-bin-hadoop2.7'"
      ]
     },
     "execution_count": 44,
     "metadata": {},
     "output_type": "execute_result"
    }
   ],
   "source": [
    "findspark.find()"
   ]
  },
  {
   "cell_type": "code",
   "execution_count": 45,
   "id": "b3ab3b2c",
   "metadata": {},
   "outputs": [],
   "source": [
    "import pyspark\n",
    "from pyspark.sql import SparkSession\n",
    "from pyspark.sql.functions import lit, when, col\n",
    "import numpy as np\n",
    "import pandas as pd"
   ]
  },
  {
   "cell_type": "code",
   "execution_count": 46,
   "id": "b123d1a5",
   "metadata": {},
   "outputs": [],
   "source": [
    "spark = SparkSession.builder.appName('DataFrame').getOrCreate()"
   ]
  },
  {
   "cell_type": "code",
   "execution_count": 47,
   "id": "580988e3",
   "metadata": {},
   "outputs": [],
   "source": [
    "student_data = spark.read.csv('Student_Data.csv',header = True,inferSchema = True)"
   ]
  },
  {
   "cell_type": "code",
   "execution_count": 48,
   "id": "cdc57a75",
   "metadata": {},
   "outputs": [],
   "source": [
    "student_data = student_data.withColumnRenamed('Student ID','ID')"
   ]
  },
  {
   "cell_type": "code",
   "execution_count": 49,
   "id": "26ff5b8e",
   "metadata": {},
   "outputs": [],
   "source": [
    "student_credits = spark.read.csv('students_credits.csv',header = True,inferSchema = True)"
   ]
  },
  {
   "cell_type": "code",
   "execution_count": 65,
   "id": "8224caf3",
   "metadata": {},
   "outputs": [],
   "source": [
    "op = student_credits.join(student_data, student_data.ID == student_credits.ID, how='leftsemi')"
   ]
  },
  {
   "cell_type": "code",
   "execution_count": 51,
   "id": "8e5ccaee",
   "metadata": {},
   "outputs": [
    {
     "name": "stdout",
     "output_type": "stream",
     "text": [
      "+----+-------+---+---------+--------------+---+------------+--------------------------+\n",
      "|  ID|English| M1|Chemistry|ProblemSolving| EG|PracticalsCS|PracticalsPhysicsChemistry|\n",
      "+----+-------+---+---------+--------------+---+------------+--------------------------+\n",
      "|1001|      A|  A|        D|             B|  S|           S|                         S|\n",
      "|1002|      B|  C|        B|             A|  D|           S|                         S|\n",
      "|1003|      D|  A|        C|             B|  C|           S|                         A|\n",
      "|1004|      E|  A|        A|             C|  B|           A|                         S|\n",
      "|1005|      B|  A|        A|             A|  S|           A|                         A|\n",
      "|1006|      C|  C|        B|             C|  D|           B|                         B|\n",
      "|1007|      A|  B|        D|             B|  B|           A|                         A|\n",
      "|1008|      A|  A|        B|             A|  C|           S|                         A|\n",
      "+----+-------+---+---------+--------------+---+------------+--------------------------+\n",
      "\n"
     ]
    }
   ],
   "source": [
    "op.show()"
   ]
  },
  {
   "cell_type": "code",
   "execution_count": 52,
   "id": "67554cc0",
   "metadata": {},
   "outputs": [],
   "source": [
    "eng = 4\n",
    "m = 4\n",
    "chem = 3\n",
    "prob_sol= 3\n",
    "eg = 4\n",
    "cs =2\n",
    "chem_lab = 2\n",
    "credit_pts = eng+m+chem+prob_sol+eg+cs+chem_lab"
   ]
  },
  {
   "cell_type": "code",
   "execution_count": 53,
   "id": "da897ff4",
   "metadata": {},
   "outputs": [],
   "source": [
    "credit_scr = {'S': 10, 'A': 9, 'B': 8, 'C': 7, 'D': 6, 'E': 5}"
   ]
  },
  {
   "cell_type": "code",
   "execution_count": 54,
   "id": "201687bf",
   "metadata": {},
   "outputs": [],
   "source": [
    "data = pd.read_csv(\"students_credits.csv\")"
   ]
  },
  {
   "cell_type": "code",
   "execution_count": 89,
   "id": "5ee660ce",
   "metadata": {},
   "outputs": [
    {
     "name": "stdout",
     "output_type": "stream",
     "text": [
      "['8.82', '7.95', '7.77', '7.91', '9.00', '7.14', '8.09', '8.59']\n"
     ]
    }
   ],
   "source": [
    "gpa = []\n",
    "arr = data.to_numpy()\n",
    "for i in range(len(arr)):\n",
    "    x = 0\n",
    "    for j in range(1, len(arr[i])):\n",
    "        if j == 1:\n",
    "            x += (eng * credit_scr[arr[i][j]])\n",
    "        elif j == 2:\n",
    "            x += (m * credit_scr[arr[i][j]])\n",
    "        elif j == 3:\n",
    "            x += (chem * credit_scr[arr[i][j]])\n",
    "        elif j == 4:\n",
    "            x += (prob_sol * credit_scr[arr[i][j]])\n",
    "        elif j == 5:\n",
    "            x += (eg * credit_scr[arr[i][j]])\n",
    "        elif j == 6:\n",
    "            x += (cs * credit_scr[arr[i][j]])\n",
    "        elif j == 7:\n",
    "            x += (chem_lab * credit_scr[arr[i][j]])\n",
    "    #b = round(x/credit_pts, 2)\n",
    "    b = \"{:.2f}\".format(x/credit_pts)\n",
    "    gpa.append(b)\n",
    "print(gpa)"
   ]
  },
  {
   "cell_type": "code",
   "execution_count": 56,
   "id": "eb19ed12",
   "metadata": {},
   "outputs": [
    {
     "name": "stdout",
     "output_type": "stream",
     "text": [
      "+----+-------+---+---------+--------------+---+------------+--------------------------+----+\n",
      "|  ID|English| M1|Chemistry|ProblemSolving| EG|PracticalsCS|PracticalsPhysicsChemistry| GPA|\n",
      "+----+-------+---+---------+--------------+---+------------+--------------------------+----+\n",
      "|1001|      A|  A|        D|             B|  S|           S|                         S|8.82|\n",
      "|1002|      B|  C|        B|             A|  D|           S|                         S|7.95|\n",
      "|1003|      D|  A|        C|             B|  C|           S|                         A|7.77|\n",
      "|1004|      E|  A|        A|             C|  B|           A|                         S|7.91|\n",
      "|1005|      B|  A|        A|             A|  S|           A|                         A| 9.0|\n",
      "|1006|      C|  C|        B|             C|  D|           B|                         B|7.14|\n",
      "|1007|      A|  B|        D|             B|  B|           A|                         A|8.09|\n",
      "|1008|      A|  A|        B|             A|  C|           S|                         A|8.59|\n",
      "+----+-------+---+---------+--------------+---+------------+--------------------------+----+\n",
      "\n"
     ]
    }
   ],
   "source": [
    "op = op.withColumn('GPA',when((op.ID == 1001), lit(gpa[0]))\n",
    "                        .when((op.ID == 1002), lit(gpa[1]))\n",
    "                        .when((op.ID == 1003), lit(gpa[2]))\n",
    "                        .when((op.ID == 1004), lit(gpa[3]))\n",
    "                        .when((op.ID == 1005), lit(gpa[4]))\n",
    "                        .when((op.ID == 1006), lit(gpa[5]))\n",
    "                        .when((op.ID == 1007), lit(gpa[6]))\n",
    "                        .when((op.ID == 1008), lit(gpa[7])))\n",
    "op.show()"
   ]
  },
  {
   "cell_type": "code",
   "execution_count": 57,
   "id": "44f3c5b5",
   "metadata": {},
   "outputs": [
    {
     "name": "stdout",
     "output_type": "stream",
     "text": [
      "+----+-------+---+---------+--------------+---+------------+--------------------------+----+\n",
      "|  ID|English| M1|Chemistry|ProblemSolving| EG|PracticalsCS|PracticalsPhysicsChemistry| GPA|\n",
      "+----+-------+---+---------+--------------+---+------------+--------------------------+----+\n",
      "|1005|      B|  A|        A|             A|  S|           A|                         A| 9.0|\n",
      "|1001|      A|  A|        D|             B|  S|           S|                         S|8.82|\n",
      "|1008|      A|  A|        B|             A|  C|           S|                         A|8.59|\n",
      "+----+-------+---+---------+--------------+---+------------+--------------------------+----+\n",
      "only showing top 3 rows\n",
      "\n"
     ]
    }
   ],
   "source": [
    "op = op.sort(op.GPA.desc())\n",
    "op.show(3)"
   ]
  },
  {
   "cell_type": "code",
   "execution_count": 95,
   "id": "479e6280",
   "metadata": {},
   "outputs": [],
   "source": [
    "#DIRECTLY MADE CALCULATIONS IN DATAFRAME\n",
    "op = op.withColumn('English_Cal',when((op.English == 'S'),lit(10*4))\n",
    "                            .when((op.English == 'A'),lit(9*4))\n",
    "                            .when((op.English == 'B'),lit(8*4))\n",
    "                            .when((op.English == 'C'),lit(7*4))\n",
    "                            .when((op.English == 'D'),lit(6*4))\n",
    "                            .when((op.English == 'E'),lit(5*4)))\n",
    "\n",
    "op = op.withColumn('M1_Cal',when((op.M1 == 'S'),lit(10*4))\n",
    "                            .when((op.M1 == 'A'),lit(9*4))\n",
    "                            .when((op.M1 == 'B'),lit(8*4))\n",
    "                            .when((op.M1 == 'C'),lit(7*4))\n",
    "                            .when((op.M1 == 'D'),lit(6*4))\n",
    "                            .when((op.M1 == 'E'),lit(5*4)))\n",
    "\n",
    "op = op.withColumn('Chemistry_Cal',when((op.Chemistry == 'S'),lit(10*3))\n",
    "                            .when((op.Chemistry == 'A'),lit(9*3))\n",
    "                            .when((op.Chemistry == 'B'),lit(8*3))\n",
    "                            .when((op.Chemistry == 'C'),lit(7*3))\n",
    "                            .when((op.Chemistry == 'D'),lit(6*3))\n",
    "                            .when((op.Chemistry == 'E'),lit(5*3)))\n",
    "\n",
    "op = op.withColumn('ProblemSolving_Cal',when((op.ProblemSolving == 'S'),lit(10*3))\n",
    "                            .when((op.ProblemSolving == 'A'),lit(9*3))\n",
    "                            .when((op.ProblemSolving == 'B'),lit(8*3))\n",
    "                            .when((op.ProblemSolving == 'C'),lit(7*3))\n",
    "                            .when((op.ProblemSolving == 'D'),lit(6*3))\n",
    "                            .when((op.ProblemSolving == 'E'),lit(5*3)))\n",
    "\n",
    "op = op.withColumn('EG_Cal',when((op.EG == 'S'),lit(10*4))\n",
    "                            .when((op.EG == 'A'),lit(9*4))\n",
    "                            .when((op.EG == 'B'),lit(8*4))\n",
    "                            .when((op.EG == 'C'),lit(7*4))\n",
    "                            .when((op.EG == 'D'),lit(6*4))\n",
    "                            .when((op.EG == 'E'),lit(5*4)))\n",
    "\n",
    "op = op.withColumn('PracticalsCS_Cal',when((op.PracticalsCS == 'S'),lit(10*2))\n",
    "                            .when((op.PracticalsCS == 'A'),lit(9*2))\n",
    "                            .when((op.PracticalsCS == 'B'),lit(8*2))\n",
    "                            .when((op.PracticalsCS == 'C'),lit(7*2))\n",
    "                            .when((op.PracticalsCS == 'D'),lit(6*2))\n",
    "                            .when((op.PracticalsCS == 'E'),lit(5*2)))\n",
    "\n",
    "op = op.withColumn('PracticalsPhysicsChemistry_Cal',when((op.PracticalsPhysicsChemistry == 'S'),lit(10*2))\n",
    "                            .when((op.PracticalsPhysicsChemistry == 'A'),lit(9*2))\n",
    "                            .when((op.PracticalsPhysicsChemistry == 'B'),lit(8*2))\n",
    "                            .when((op.PracticalsPhysicsChemistry == 'C'),lit(7*2))\n",
    "                            .when((op.PracticalsPhysicsChemistry == 'D'),lit(6*2))\n",
    "                            .when((op.PracticalsPhysicsChemistry == 'E'),lit(5*2)))\n",
    "\n",
    "op = op.withColumn('GPA',(op.English_Cal+op.M1_Cal+op.Chemistry_Cal+op.ProblemSolving_Cal+op.EG_Cal+op.PracticalsCS_Cal+op.PracticalsPhysicsChemistry_Cal)/22)"
   ]
  },
  {
   "cell_type": "code",
   "execution_count": 96,
   "id": "3213658f",
   "metadata": {},
   "outputs": [
    {
     "name": "stdout",
     "output_type": "stream",
     "text": [
      "+----+-------+---+---------+--------------+---+------------+--------------------------+-----------+------+-------------+------------------+------+----------------+------------------------------+-----------------+\n",
      "|  ID|English| M1|Chemistry|ProblemSolving| EG|PracticalsCS|PracticalsPhysicsChemistry|English_Cal|M1_Cal|Chemistry_Cal|ProblemSolving_Cal|EG_Cal|PracticalsCS_Cal|PracticalsPhysicsChemistry_Cal|              GPA|\n",
      "+----+-------+---+---------+--------------+---+------------+--------------------------+-----------+------+-------------+------------------+------+----------------+------------------------------+-----------------+\n",
      "|1005|      B|  A|        A|             A|  S|           A|                         A|         32|    36|           27|                27|    40|              18|                            18|              9.0|\n",
      "|1001|      A|  A|        D|             B|  S|           S|                         S|         36|    36|           18|                24|    40|              20|                            20|8.818181818181818|\n",
      "|1008|      A|  A|        B|             A|  C|           S|                         A|         36|    36|           24|                27|    28|              20|                            18|8.590909090909092|\n",
      "+----+-------+---+---------+--------------+---+------------+--------------------------+-----------+------+-------------+------------------+------+----------------+------------------------------+-----------------+\n",
      "only showing top 3 rows\n",
      "\n"
     ]
    }
   ],
   "source": [
    "op.sort(op.GPA.desc()).show(3)"
   ]
  }
 ],
 "metadata": {
  "kernelspec": {
   "display_name": "Python 3",
   "language": "python",
   "name": "python3"
  },
  "language_info": {
   "codemirror_mode": {
    "name": "ipython",
    "version": 3
   },
   "file_extension": ".py",
   "mimetype": "text/x-python",
   "name": "python",
   "nbconvert_exporter": "python",
   "pygments_lexer": "ipython3",
   "version": "3.8.8"
  }
 },
 "nbformat": 4,
 "nbformat_minor": 5
}
