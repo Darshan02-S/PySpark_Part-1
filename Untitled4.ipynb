{
 "cells": [
  {
   "cell_type": "code",
   "execution_count": 1,
   "id": "86ad1386",
   "metadata": {},
   "outputs": [],
   "source": [
    "import findspark"
   ]
  },
  {
   "cell_type": "code",
   "execution_count": 2,
   "id": "916ff7f6",
   "metadata": {},
   "outputs": [],
   "source": [
    "findspark.init()"
   ]
  },
  {
   "cell_type": "code",
   "execution_count": 3,
   "id": "135fdc88",
   "metadata": {},
   "outputs": [
    {
     "data": {
      "text/plain": [
       "'C:\\\\spark-3.1.3-bin-hadoop2.7'"
      ]
     },
     "execution_count": 3,
     "metadata": {},
     "output_type": "execute_result"
    }
   ],
   "source": [
    "findspark.find()"
   ]
  },
  {
   "cell_type": "code",
   "execution_count": 42,
   "id": "b3ab3b2c",
   "metadata": {},
   "outputs": [],
   "source": [
    "import pyspark\n",
    "from pyspark.sql import SparkSession\n",
    "from pyspark.sql.functions import lit,when\n",
    "import numpy as np\n",
    "import pandas as pd"
   ]
  },
  {
   "cell_type": "code",
   "execution_count": 5,
   "id": "b123d1a5",
   "metadata": {},
   "outputs": [],
   "source": [
    "spark = SparkSession.builder.appName('DataFrame').getOrCreate()"
   ]
  },
  {
   "cell_type": "code",
   "execution_count": 6,
   "id": "580988e3",
   "metadata": {},
   "outputs": [],
   "source": [
    "student_data = spark.read.csv('Student_Data.csv',header = True,inferSchema = True)"
   ]
  },
  {
   "cell_type": "code",
   "execution_count": 7,
   "id": "cdc57a75",
   "metadata": {},
   "outputs": [],
   "source": [
    "student_data = student_data.withColumnRenamed('Student ID','ID')"
   ]
  },
  {
   "cell_type": "code",
   "execution_count": 8,
   "id": "26ff5b8e",
   "metadata": {},
   "outputs": [],
   "source": [
    "student_credits = spark.read.csv('students_credits.csv',header = True,inferSchema = True)"
   ]
  },
  {
   "cell_type": "code",
   "execution_count": 9,
   "id": "8224caf3",
   "metadata": {},
   "outputs": [],
   "source": [
    "op = student_credits.join(student_data,student_data.ID == student_credits.ID , how='leftsemi')"
   ]
  },
  {
   "cell_type": "code",
   "execution_count": 10,
   "id": "8e5ccaee",
   "metadata": {},
   "outputs": [
    {
     "name": "stdout",
     "output_type": "stream",
     "text": [
      "+----+-------+---+---------+--------------+---+------------+--------------------------+\n",
      "|ID  |English|M1 |Chemistry|ProblemSolving|EG |PracticalsCS|PracticalsPhysicsChemistry|\n",
      "+----+-------+---+---------+--------------+---+------------+--------------------------+\n",
      "|1001|A      |A  |D        |B             |S  |S           |S                         |\n",
      "|1002|B      |C  |B        |A             |D  |S           |S                         |\n",
      "|1003|D      |A  |C        |B             |C  |S           |A                         |\n",
      "|1004|E      |A  |A        |C             |B  |A           |S                         |\n",
      "|1005|B      |A  |A        |A             |S  |A           |A                         |\n",
      "|1006|C      |C  |B        |C             |D  |B           |B                         |\n",
      "|1007|A      |B  |D        |B             |B  |A           |A                         |\n",
      "|1008|A      |A  |B        |A             |C  |S           |A                         |\n",
      "+----+-------+---+---------+--------------+---+------------+--------------------------+\n",
      "\n"
     ]
    }
   ],
   "source": [
    "op.show(truncate=False)"
   ]
  },
  {
   "cell_type": "code",
   "execution_count": 29,
   "id": "67554cc0",
   "metadata": {},
   "outputs": [],
   "source": [
    "eng = 4\n",
    "m = 4\n",
    "chem = 3\n",
    "prob_sol= 3\n",
    "eg = 4\n",
    "cs =2\n",
    "chem_lab = 2\n",
    "credit_pts = eng+m1+chem+prob_sol+eg+cs+chem_lab"
   ]
  },
  {
   "cell_type": "code",
   "execution_count": 27,
   "id": "da897ff4",
   "metadata": {},
   "outputs": [],
   "source": [
    "credit_scr = {'S': 10, 'A': 9, 'B': 8, 'C': 7, 'D': 6, 'E': 5}\n",
    "gpa = []"
   ]
  },
  {
   "cell_type": "code",
   "execution_count": 25,
   "id": "201687bf",
   "metadata": {},
   "outputs": [],
   "source": [
    "data = pd.read_csv(\"students_credits.csv\")\n"
   ]
  },
  {
   "cell_type": "code",
   "execution_count": 31,
   "id": "5ee660ce",
   "metadata": {},
   "outputs": [
    {
     "name": "stdout",
     "output_type": "stream",
     "text": [
      "[8.818181818181818, 7.954545454545454, 7.7727272727272725, 7.909090909090909, 9.0, 7.136363636363637, 8.090909090909092, 8.590909090909092]\n"
     ]
    }
   ],
   "source": [
    "arr = data.to_numpy()\n",
    "for i in range(len(arr)):\n",
    "    x = 0\n",
    "    for j in range(1, len(arr[i])):\n",
    "        if j == 1:\n",
    "            x += (eng * credit_scr[arr[i][j]])\n",
    "        elif j == 2:\n",
    "            x += (m * credit_scr[arr[i][j]])\n",
    "        elif j == 3:\n",
    "            x += (chem * credit_scr[arr[i][j]])\n",
    "        elif j == 4:\n",
    "            x += (prob_sol * credit_scr[arr[i][j]])\n",
    "        elif j == 5:\n",
    "            x += (eg * credit_scr[arr[i][j]])\n",
    "        elif j == 6:\n",
    "            x += (cs * credit_scr[arr[i][j]])\n",
    "        elif j == 7:\n",
    "            x += (chem_lab * credit_scr[arr[i][j]])\n",
    "    b = x/credit_pts\n",
    "    gpa.append(b)\n",
    "print(gpa)\n",
    "        "
   ]
  },
  {
   "cell_type": "code",
   "execution_count": 47,
   "id": "eb19ed12",
   "metadata": {},
   "outputs": [
    {
     "name": "stdout",
     "output_type": "stream",
     "text": [
      "+----+-------+---+---------+--------------+---+------------+--------------------------+----+\n",
      "|  ID|English| M1|Chemistry|ProblemSolving| EG|PracticalsCS|PracticalsPhysicsChemistry| GPA|\n",
      "+----+-------+---+---------+--------------+---+------------+--------------------------+----+\n",
      "|1001|      A|  A|        D|             B|  S|           S|                         S|8.82|\n",
      "|1002|      B|  C|        B|             A|  D|           S|                         S|7.95|\n",
      "|1003|      D|  A|        C|             B|  C|           S|                         A|7.77|\n",
      "|1004|      E|  A|        A|             C|  B|           A|                         S|7.91|\n",
      "|1005|      B|  A|        A|             A|  S|           A|                         A| 9.0|\n",
      "|1006|      C|  C|        B|             C|  D|           B|                         B|7.14|\n",
      "|1007|      A|  B|        D|             B|  B|           A|                         A|8.09|\n",
      "|1008|      A|  A|        B|             A|  C|           S|                         A|8.59|\n",
      "+----+-------+---+---------+--------------+---+------------+--------------------------+----+\n",
      "\n"
     ]
    }
   ],
   "source": [
    "op = op.withColumn('GPA',when((op.ID == 1001), lit(round(gpa[0],2)))\n",
    "                        .when((op.ID == 1002), lit(round(gpa[1],2)))\n",
    "                        .when((op.ID == 1003), lit(round(gpa[2],2)))\n",
    "                        .when((op.ID == 1004), lit(round(gpa[3],2)))\n",
    "                        .when((op.ID == 1005), lit(round(gpa[4],2)))\n",
    "                        .when((op.ID == 1006), lit(round(gpa[5],2)))\n",
    "                        .when((op.ID == 1007), lit(round(gpa[6],2)))\n",
    "                        .when((op.ID == 1008), lit(round(gpa[7],2))))\n",
    "op.show()"
   ]
  },
  {
   "cell_type": "code",
   "execution_count": 56,
   "id": "44f3c5b5",
   "metadata": {},
   "outputs": [
    {
     "name": "stdout",
     "output_type": "stream",
     "text": [
      "+----+-------+---+---------+--------------+---+------------+--------------------------+----+\n",
      "|  ID|English| M1|Chemistry|ProblemSolving| EG|PracticalsCS|PracticalsPhysicsChemistry| GPA|\n",
      "+----+-------+---+---------+--------------+---+------------+--------------------------+----+\n",
      "|1005|      B|  A|        A|             A|  S|           A|                         A| 9.0|\n",
      "|1001|      A|  A|        D|             B|  S|           S|                         S|8.82|\n",
      "|1008|      A|  A|        B|             A|  C|           S|                         A|8.59|\n",
      "+----+-------+---+---------+--------------+---+------------+--------------------------+----+\n",
      "only showing top 3 rows\n",
      "\n"
     ]
    }
   ],
   "source": [
    "op = op.sort(op.GPA.desc())\n",
    "op.show(3)"
   ]
  },
  {
   "cell_type": "code",
   "execution_count": null,
   "id": "ad6ddf85",
   "metadata": {},
   "outputs": [],
   "source": []
  }
 ],
 "metadata": {
  "kernelspec": {
   "display_name": "Python 3",
   "language": "python",
   "name": "python3"
  },
  "language_info": {
   "codemirror_mode": {
    "name": "ipython",
    "version": 3
   },
   "file_extension": ".py",
   "mimetype": "text/x-python",
   "name": "python",
   "nbconvert_exporter": "python",
   "pygments_lexer": "ipython3",
   "version": "3.8.8"
  }
 },
 "nbformat": 4,
 "nbformat_minor": 5
}
