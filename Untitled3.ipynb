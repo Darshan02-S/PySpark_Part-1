{
 "cells": [
  {
   "cell_type": "code",
   "execution_count": 1,
   "id": "9216750e",
   "metadata": {},
   "outputs": [],
   "source": [
    "import findspark"
   ]
  },
  {
   "cell_type": "code",
   "execution_count": 2,
   "id": "d49a574f",
   "metadata": {},
   "outputs": [],
   "source": [
    "findspark.init()"
   ]
  },
  {
   "cell_type": "code",
   "execution_count": 3,
   "id": "b39d41bb",
   "metadata": {},
   "outputs": [
    {
     "data": {
      "text/plain": [
       "'C:\\\\spark-3.1.3-bin-hadoop2.7'"
      ]
     },
     "execution_count": 3,
     "metadata": {},
     "output_type": "execute_result"
    }
   ],
   "source": [
    "findspark.find()"
   ]
  },
  {
   "cell_type": "code",
   "execution_count": 4,
   "id": "a561ca1f",
   "metadata": {},
   "outputs": [],
   "source": [
    "import pyspark"
   ]
  },
  {
   "cell_type": "code",
   "execution_count": 5,
   "id": "524c64d6",
   "metadata": {},
   "outputs": [],
   "source": [
    "from pyspark.sql import SparkSession"
   ]
  },
  {
   "cell_type": "code",
   "execution_count": 6,
   "id": "d2378f59",
   "metadata": {},
   "outputs": [],
   "source": [
    "spark = SparkSession.builder.appName('dataframepractice').getOrCreate()"
   ]
  },
  {
   "cell_type": "code",
   "execution_count": 7,
   "id": "baf915eb",
   "metadata": {},
   "outputs": [],
   "source": [
    "data = spark.read.option('header','true').csv('Student_Data.csv',inferSchema=True)"
   ]
  },
  {
   "cell_type": "code",
   "execution_count": 8,
   "id": "8eb32804",
   "metadata": {},
   "outputs": [
    {
     "data": {
      "text/plain": [
       "DataFrame[Student ID: int, Preferred Name: string, First Name: string, Middle Name: string, Last Name: string, Secondary ID: string, Date of Birth: string, E-mail Address: string, Phone 1: string, Address 1: string, Phone 2: string, Address 2: string, Phone 3: string, Address 3: string, Address 4: string]"
      ]
     },
     "execution_count": 8,
     "metadata": {},
     "output_type": "execute_result"
    }
   ],
   "source": [
    "data"
   ]
  },
  {
   "cell_type": "code",
   "execution_count": 9,
   "id": "b6947b89",
   "metadata": {},
   "outputs": [
    {
     "name": "stdout",
     "output_type": "stream",
     "text": [
      "root\n",
      " |-- Student ID: integer (nullable = true)\n",
      " |-- Preferred Name: string (nullable = true)\n",
      " |-- First Name: string (nullable = true)\n",
      " |-- Middle Name: string (nullable = true)\n",
      " |-- Last Name: string (nullable = true)\n",
      " |-- Secondary ID: string (nullable = true)\n",
      " |-- Date of Birth: string (nullable = true)\n",
      " |-- E-mail Address: string (nullable = true)\n",
      " |-- Phone 1: string (nullable = true)\n",
      " |-- Address 1: string (nullable = true)\n",
      " |-- Phone 2: string (nullable = true)\n",
      " |-- Address 2: string (nullable = true)\n",
      " |-- Phone 3: string (nullable = true)\n",
      " |-- Address 3: string (nullable = true)\n",
      " |-- Address 4: string (nullable = true)\n",
      "\n"
     ]
    }
   ],
   "source": [
    "data.printSchema()"
   ]
  },
  {
   "cell_type": "code",
   "execution_count": 10,
   "id": "ef63c5ed",
   "metadata": {},
   "outputs": [],
   "source": [
    "data = spark.read.csv('Student_data.csv',header = True, inferSchema = True)"
   ]
  },
  {
   "cell_type": "code",
   "execution_count": 11,
   "id": "eba1116a",
   "metadata": {},
   "outputs": [
    {
     "data": {
      "text/plain": [
       "DataFrame[Student ID: int, Preferred Name: string, First Name: string, Middle Name: string, Last Name: string, Secondary ID: string, Date of Birth: string, E-mail Address: string, Phone 1: string, Address 1: string, Phone 2: string, Address 2: string, Phone 3: string, Address 3: string, Address 4: string]"
      ]
     },
     "execution_count": 11,
     "metadata": {},
     "output_type": "execute_result"
    }
   ],
   "source": [
    "data"
   ]
  },
  {
   "cell_type": "code",
   "execution_count": 12,
   "id": "5fc8a404",
   "metadata": {},
   "outputs": [
    {
     "name": "stdout",
     "output_type": "stream",
     "text": [
      "root\n",
      " |-- Student ID: integer (nullable = true)\n",
      " |-- Preferred Name: string (nullable = true)\n",
      " |-- First Name: string (nullable = true)\n",
      " |-- Middle Name: string (nullable = true)\n",
      " |-- Last Name: string (nullable = true)\n",
      " |-- Secondary ID: string (nullable = true)\n",
      " |-- Date of Birth: string (nullable = true)\n",
      " |-- E-mail Address: string (nullable = true)\n",
      " |-- Phone 1: string (nullable = true)\n",
      " |-- Address 1: string (nullable = true)\n",
      " |-- Phone 2: string (nullable = true)\n",
      " |-- Address 2: string (nullable = true)\n",
      " |-- Phone 3: string (nullable = true)\n",
      " |-- Address 3: string (nullable = true)\n",
      " |-- Address 4: string (nullable = true)\n",
      "\n"
     ]
    }
   ],
   "source": [
    "data.printSchema()"
   ]
  },
  {
   "cell_type": "code",
   "execution_count": 13,
   "id": "c47ca559",
   "metadata": {},
   "outputs": [
    {
     "name": "stdout",
     "output_type": "stream",
     "text": [
      "+----------+--------------------+\n",
      "|Student ID|      E-mail Address|\n",
      "+----------+--------------------+\n",
      "|      1001|lpb@myUniversity.com|\n",
      "|      1002|mgl@myUniversity.com|\n",
      "|      1003|afs@myUniversity.com|\n",
      "|      1004|lbb@myUniversity.com|\n",
      "|      1005|scv@myUniversity.com|\n",
      "|      1006|mkh@myUniversity.com|\n",
      "|      1007|gtw@myUniversity.com|\n",
      "|      1008|jkm@myUniversity.com|\n",
      "|      1009|ksd@myUniversity.com|\n",
      "+----------+--------------------+\n",
      "\n"
     ]
    }
   ],
   "source": [
    "data.select(['Student ID','E-mail Address']).show()"
   ]
  },
  {
   "cell_type": "code",
   "execution_count": 14,
   "id": "77ac17f3",
   "metadata": {},
   "outputs": [
    {
     "name": "stdout",
     "output_type": "stream",
     "text": [
      "+-------+------------------+--------------+----------+-----------+---------+------------+-------------+--------------------+------------+--------------------+------------+--------------------+------------+--------------------+--------------------+\n",
      "|summary|        Student ID|Preferred Name|First Name|Middle Name|Last Name|Secondary ID|Date of Birth|      E-mail Address|     Phone 1|           Address 1|     Phone 2|           Address 2|     Phone 3|           Address 3|           Address 4|\n",
      "+-------+------------------+--------------+----------+-----------+---------+------------+-------------+--------------------+------------+--------------------+------------+--------------------+------------+--------------------+--------------------+\n",
      "|  count|                 9|             9|         9|          9|        9|           9|            9|                   9|           9|                   9|           9|                   3|           6|                   6|                   9|\n",
      "|   mean|            1005.0|          null|      null|       null|     null|        null|         null|                null|        null|                null|        null|                null|        null|                null|                null|\n",
      "| stddev|2.7386127875258306|          null|      null|       null|     null|        null|         null|                null|        null|                null|        null|                null|        null|                null|                null|\n",
      "|    min|              1001|          Anne|      Anne|      Belle|   Baxley|       Q1001|   01/02/1998|afs@myUniversity.com|279-705-3782|222 Lakeshore Dri...|114-876-8220|1006 College Driv...|325-204-5929|Chase Hall - Room...|Campus Mail - Box...|\n",
      "|    max|              1009|          Todd|      Todd| Washington| Vlassman|       Q1009|   11/20/1997|scv@myUniversity.com|985-677-7127|871 Lakeshore Dri...|961-413-7600|1008 College Driv...|724-802-0816|Fischer West - Ro...|Campus Mail - Box...|\n",
      "+-------+------------------+--------------+----------+-----------+---------+------------+-------------+--------------------+------------+--------------------+------------+--------------------+------------+--------------------+--------------------+\n",
      "\n"
     ]
    }
   ],
   "source": [
    "data.describe().show()"
   ]
  },
  {
   "cell_type": "code",
   "execution_count": 27,
   "id": "981080c8",
   "metadata": {},
   "outputs": [
    {
     "name": "stdout",
     "output_type": "stream",
     "text": [
      "+--------------------+\n",
      "|Converted Student ID|\n",
      "+--------------------+\n",
      "|                2002|\n",
      "|                2004|\n",
      "|                2006|\n",
      "|                2008|\n",
      "|                2010|\n",
      "|                2012|\n",
      "|                2014|\n",
      "|                2016|\n",
      "|                2018|\n",
      "+--------------------+\n",
      "\n"
     ]
    }
   ],
   "source": [
    "#adding colums ---> withColumn(attribute1 = 'new column name',attribute2 = 'values')\n",
    "data = data.withColumn('Converted Student ID',data['Student ID']*2)\n",
    "data.select('Converted Student ID').show()"
   ]
  },
  {
   "cell_type": "code",
   "execution_count": 34,
   "id": "eee2e483",
   "metadata": {},
   "outputs": [
    {
     "name": "stdout",
     "output_type": "stream",
     "text": [
      "+----------+--------------+----------+-----------+---------+------------+-------------+--------------------+------------+--------------------+------------+--------------------+------------+--------------------+--------------------+\n",
      "|Student ID|Preferred Name|First Name|Middle Name|Last Name|Secondary ID|Date of Birth|      E-mail Address|     Phone 1|           Address 1|     Phone 2|           Address 2|     Phone 3|           Address 3|           Address 4|\n",
      "+----------+--------------+----------+-----------+---------+------------+-------------+--------------------+------------+--------------------+------------+--------------------+------------+--------------------+--------------------+\n",
      "|      1001|          Luke|      Luke|     Porter|   Baxley|       Q1001|   01/02/1998|lpb@myUniversity.com|780-883-7269|222 Lakeshore Dri...|404-925-4456|                null|325-204-5929|Fischer West - Ro...|Campus Mail - Box...|\n",
      "|      1002|        Marnie|    Marnie|      Gayle|  Lemmons|       Q1002|   11/07/1998|mgl@myUniversity.com|826-443-7227|610 Spring Creek ...|819-724-9241|                null|724-802-0816|Chase Hall - Room...|Campus Mail - Box...|\n",
      "|      1003|          Anne|      Anne|      Faith|    Scott|       Q1003|   02/02/1997|afs@myUniversity.com|759-315-2580|871 Lakeshore Dri...|114-876-8220|                null|325-674-2993|Fischer East - Ro...|Campus Mail - Box...|\n",
      "|      1004|          Lucy|      Lucy|      Belle|Blakeslee|       Q1004|   03/02/2000|lbb@myUniversity.com|956-277-5715|787 Ruth Street<b...|827-308-2391|                null|615-384-7495|Fischer East - Ro...|Campus Mail - Box...|\n",
      "|      1005|       Chelsea|   Chelsea|   Savannah| Vlassman|       Q1005|   01/24/1997|scv@myUniversity.com|716-713-9011|461 Lakeshore Dri...|431-594-8175|                null|325-669-5766|Chase Hall - Room...|Campus Mail - Box...|\n",
      "|      1006|         Kelly|     Kelly|    Marilyn|   Hudson|       Q1006|   01/25/1999|mkh@myUniversity.com|775-553-2558|744 Ruth Street<b...|646-431-2608|1006 College Driv...|        null|                null|Campus Mail - Box...|\n",
      "|      1007|          Todd|      Todd| Washington|Robertson|       Q1007|   01/21/1997|gtw@myUniversity.com|279-705-3782|832 Lakeshore Dri...|786-200-2974|1007 College Driv...|        null|                null|Campus Mail - Box...|\n",
      "|      1008|          Kirk|      Kirk|     Jeremy| Mitchell|       Q1008|   01/20/1997|jkm@myUniversity.com|937-857-9883|793 Ruth Street<b...|961-413-7600|1008 College Driv...|        null|                null|Campus Mail - Box...|\n",
      "|      1009|       Suzanne|   Suzanne|   Kathleen|     Dunn|       Q1009|   11/20/1997|ksd@myUniversity.com|985-677-7127|587 Lakeshore Dri...|535-429-1584|                null|325-370-2043|Chase Hall - Room...|Campus Mail - Box...|\n",
      "+----------+--------------+----------+-----------+---------+------------+-------------+--------------------+------------+--------------------+------------+--------------------+------------+--------------------+--------------------+\n",
      "\n"
     ]
    }
   ],
   "source": [
    "#droping columns ---> drop('column name')  \n",
    "#even a single column can be dropped or else multiple columns can be dropped by giving list of columns\n",
    "data = data.drop('Full Name')\n",
    "data.show()"
   ]
  },
  {
   "cell_type": "code",
   "execution_count": 35,
   "id": "16b6cb13",
   "metadata": {},
   "outputs": [
    {
     "name": "stdout",
     "output_type": "stream",
     "text": [
      "+-----------+\n",
      "|Actual Name|\n",
      "+-----------+\n",
      "|       Luke|\n",
      "|     Marnie|\n",
      "|       Anne|\n",
      "|       Lucy|\n",
      "|    Chelsea|\n",
      "|      Kelly|\n",
      "|       Todd|\n",
      "|       Kirk|\n",
      "|    Suzanne|\n",
      "+-----------+\n",
      "\n"
     ]
    }
   ],
   "source": [
    "#renaming colums ---> withColumnRenamed(attribute1 = 'existing column name',attribute2 = 'new column name')\n",
    "data = data.withColumnRenamed('Preferred Name','Actual Name')\n",
    "data.select('Actual Name').show()"
   ]
  },
  {
   "cell_type": "code",
   "execution_count": null,
   "id": "c32af6e2",
   "metadata": {},
   "outputs": [],
   "source": []
  }
 ],
 "metadata": {
  "kernelspec": {
   "display_name": "Python 3",
   "language": "python",
   "name": "python3"
  },
  "language_info": {
   "codemirror_mode": {
    "name": "ipython",
    "version": 3
   },
   "file_extension": ".py",
   "mimetype": "text/x-python",
   "name": "python",
   "nbconvert_exporter": "python",
   "pygments_lexer": "ipython3",
   "version": "3.8.8"
  }
 },
 "nbformat": 4,
 "nbformat_minor": 5
}
